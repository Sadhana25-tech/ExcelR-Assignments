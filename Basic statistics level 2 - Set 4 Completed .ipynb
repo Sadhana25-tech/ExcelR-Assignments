{
 "cells": [
  {
   "cell_type": "code",
   "execution_count": null,
   "metadata": {},
   "outputs": [],
   "source": [
    "#Examine the following normal Quantile plots carefully. Which of these plots indicates that the data …\n",
    "#Are nearly normal? Ans.C\n",
    "#Have a bimodal distribution? (One way to recognize a bimodal shape is a “gap” in the spacing of \n",
    "adjacent data values.) - Ans B and D\n",
    "#Are skewed (i.e. not symmetric) ? Ans A\n",
    "#Have outliers on both sides of the center? Ans A and D"
   ]
  },
  {
   "cell_type": "code",
   "execution_count": null,
   "metadata": {},
   "outputs": [],
   "source": [
    "Q.2) For each of the following statements, indicate whether it is True/False. If false, explain why.\n",
    "\n",
    "The manager of a warehouse monitors the volume of shipments made by the delivery team. \n",
    "The automated tracking system tracks every package as it moves through the facility. A sample of 25 packages is \n",
    "selected and weighed every day. Based on current contracts with customers, the weights should have μ = 22 lbs. \n",
    "and σ = 5 lbs.\n",
    "\n",
    "Before using a normal model for the sampling distribution of the average package weights, \n",
    "the manager must confirm that weights of individual packages are normally distributed. False - Sample size is 30\n",
    "\n",
    "The standard error of the daily average SE() = 1. - True \n",
    "Standard error = standard deviation / Sqrt of sample mean = 5/sqrt25 = 1"
   ]
  },
  {
   "cell_type": "code",
   "execution_count": null,
   "metadata": {},
   "outputs": [],
   "source": [
    "Q.3) Auditors at a small community bank randomly sample 100 withdrawal transactions made during the week at an \n",
    "ATM machine located near the bank’s main branch. Over the past 2 years, the average withdrawal amount has \n",
    "been $50 with a standard deviation of $40. Since audit investigations are typically expensive, the auditors \n",
    "decide to not initiate further investigations if the mean transaction amount of the sample is between $45 and $55. \n",
    "What is the probability that in any given week, there will be an investigation?\n",
    "\n",
    "1.25%\n",
    "2.5%\n",
    "10.55%\n",
    "21.1%\n",
    "50%\n"
   ]
  },
  {
   "cell_type": "code",
   "execution_count": null,
   "metadata": {},
   "outputs": [],
   "source": [
    "P(45 < x < 55)"
   ]
  },
  {
   "cell_type": "code",
   "execution_count": null,
   "metadata": {},
   "outputs": [],
   "source": [
    "Using a calculator, the value of P(45 < x < 55) is roughly 0.7887"
   ]
  },
  {
   "cell_type": "code",
   "execution_count": null,
   "metadata": {},
   "outputs": [],
   "source": [
    "Subtracting 1 from that value gives 1-0.7887 = 0.2113 which converts to 21.13%"
   ]
  },
  {
   "cell_type": "code",
   "execution_count": null,
   "metadata": {},
   "outputs": [],
   "source": [
    "The auditors from the above example would like to maintain the probability of investigation to 5%. \n",
    "Which of the following represents the minimum number transactions that they should sample if they do not want \n",
    "to change the thresholds of 45 and 55? Assume that the sample statistics remain unchanged.\n",
    "\n",
    "144\n",
    "150\n",
    "196\n",
    "250\n",
    "Not enough information"
   ]
  },
  {
   "cell_type": "code",
   "execution_count": null,
   "metadata": {},
   "outputs": [],
   "source": [
    "Ans 250"
   ]
  },
  {
   "cell_type": "code",
   "execution_count": null,
   "metadata": {},
   "outputs": [],
   "source": [
    "An educational startup that helps MBA aspirants write their essays is targeting individuals who have taken \n",
    "GMAT in 2012 and have expressed interest in applying to FT top 20 b-schools. There are 40000 such individuals \n",
    "with an average GMAT score of 720 and a standard deviation of 120. The scores are distributed between 650 and\n",
    "790 with a very long and thin tail towards the higher end resulting in substantial skewness. Which of the \n",
    "following is likely to be true for randomly chosen samples of aspirants?"
   ]
  },
  {
   "cell_type": "code",
   "execution_count": null,
   "metadata": {},
   "outputs": [],
   "source": [
    "Standard error = Std / Sqrt N"
   ]
  },
  {
   "cell_type": "code",
   "execution_count": 1,
   "metadata": {},
   "outputs": [
    {
     "data": {
      "text/plain": [
       "0.6"
      ]
     },
     "execution_count": 1,
     "metadata": {},
     "output_type": "execute_result"
    }
   ],
   "source": [
    "120/200"
   ]
  },
  {
   "cell_type": "code",
   "execution_count": null,
   "metadata": {},
   "outputs": [],
   "source": [
    "The standard deviation of the scores within any sample will be 120.\n",
    "The standard deviation of the mean of across several samples will be 120.\n",
    "The mean score in any sample will be 720.\n",
    "The average of the mean across several samples will be 720. - True\n",
    "The standard deviation of the mean across several samples will be 0.60"
   ]
  },
  {
   "cell_type": "code",
   "execution_count": null,
   "metadata": {},
   "outputs": [],
   "source": []
  },
  {
   "cell_type": "code",
   "execution_count": null,
   "metadata": {},
   "outputs": [],
   "source": []
  },
  {
   "cell_type": "code",
   "execution_count": null,
   "metadata": {},
   "outputs": [],
   "source": []
  },
  {
   "cell_type": "code",
   "execution_count": null,
   "metadata": {},
   "outputs": [],
   "source": []
  },
  {
   "cell_type": "code",
   "execution_count": null,
   "metadata": {},
   "outputs": [],
   "source": []
  },
  {
   "cell_type": "code",
   "execution_count": null,
   "metadata": {},
   "outputs": [],
   "source": []
  },
  {
   "cell_type": "code",
   "execution_count": null,
   "metadata": {},
   "outputs": [],
   "source": []
  },
  {
   "cell_type": "code",
   "execution_count": null,
   "metadata": {},
   "outputs": [],
   "source": []
  },
  {
   "cell_type": "code",
   "execution_count": null,
   "metadata": {},
   "outputs": [],
   "source": []
  },
  {
   "cell_type": "code",
   "execution_count": null,
   "metadata": {},
   "outputs": [],
   "source": []
  },
  {
   "cell_type": "code",
   "execution_count": null,
   "metadata": {},
   "outputs": [],
   "source": []
  }
 ],
 "metadata": {
  "kernelspec": {
   "display_name": "Python 3",
   "language": "python",
   "name": "python3"
  },
  "language_info": {
   "codemirror_mode": {
    "name": "ipython",
    "version": 3
   },
   "file_extension": ".py",
   "mimetype": "text/x-python",
   "name": "python",
   "nbconvert_exporter": "python",
   "pygments_lexer": "ipython3",
   "version": "3.8.5"
  }
 },
 "nbformat": 4,
 "nbformat_minor": 4
}
