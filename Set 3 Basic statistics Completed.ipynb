{
 "cells": [
  {
   "cell_type": "code",
   "execution_count": null,
   "metadata": {},
   "outputs": [],
   "source": [
    "Q.1#For each of the following statements, indicate whether it is True/False. If false, explain why.\n",
    "#The sample size of the survey should at least be a fixed percentage of the population size in order to produce \n",
    "representative results. - FALSe, minimum samples are 309. \n",
    "#The sampling frame is a list of every item that appears in a survey sample, including those that did not respond \n",
    "to questions. - \n",
    "#FALSE (The sampling frame refers to a list of an item which responds to the question and \n",
    "#not the ones which do not respond to the questions.)\n",
    "#Larger surveys convey a more accurate impression of the population than smaller surveys - TRUE \n"
   ]
  },
  {
   "cell_type": "code",
   "execution_count": null,
   "metadata": {},
   "outputs": [],
   "source": [
    "Q.2#PC Magazine asked all of its readers to participate in a survey of their satisfaction with \n",
    "#different brands of electronics. In the 2004 survey, which was included in an issue of the magazine that year, \n",
    "#more than 9000 readers rated the products on a scale from 1 to 10. The magazine reported that the average rating \n",
    "#assigned by 225 readers to a Kodak compact digital camera was 7.5. For this product, identify the following:\n",
    "\n",
    "The population\n",
    "The parameter of interest\n",
    "The sampling frame\n",
    "The sample size\n",
    "The sampling design\n",
    "Any potential sources of bias or other problems with the survey or sample\n"
   ]
  },
  {
   "cell_type": "code",
   "execution_count": null,
   "metadata": {},
   "outputs": [],
   "source": [
    "number of readers = 9000\n",
    "sample = 225\n"
   ]
  },
  {
   "cell_type": "code",
   "execution_count": 1,
   "metadata": {},
   "outputs": [
    {
     "data": {
      "text/plain": [
       "0.025"
      ]
     },
     "execution_count": 1,
     "metadata": {},
     "output_type": "execute_result"
    }
   ],
   "source": [
    "The population = 225/9000"
   ]
  },
  {
   "cell_type": "code",
   "execution_count": null,
   "metadata": {},
   "outputs": [],
   "source": [
    "The parameter of interest = Sample size , Average "
   ]
  },
  {
   "cell_type": "code",
   "execution_count": null,
   "metadata": {},
   "outputs": [],
   "source": [
    "The sampling frame = 9000"
   ]
  },
  {
   "cell_type": "code",
   "execution_count": null,
   "metadata": {},
   "outputs": [],
   "source": [
    "The sample size = 225"
   ]
  },
  {
   "cell_type": "code",
   "execution_count": null,
   "metadata": {},
   "outputs": [],
   "source": [
    "Q.2#For each of the following statements, indicate whether it is True/False. If false, explain why.\n",
    "#If the 95% confidence interval for the average purchase of customers at a department store is $50 to $110, \n",
    "    then $100 is a plausible value for the population mean at this level of confidence. - True\n",
    "#If the 95% confidence interval for the number of moviegoers who purchase concessions is 30% to 45%, \n",
    "    this means that fewer than half of all moviegoers purchase concessions. -  False\\ We have evidence in that \n",
    "    direction but we cannot confirm100% based on this data.  We have to\n",
    "consider the values out of this range(i.e. more than 95% confidance interval).\n",
    "#The 95% Confidence-Interval for μ only applies if the sample data are nearly normally distributed. - False - It can used\n",
    "as T distribution \n",
    "\n"
   ]
  },
  {
   "cell_type": "code",
   "execution_count": null,
   "metadata": {},
   "outputs": [],
   "source": [
    "#What are the chances that X bar is greater than MU?\n",
    "#¼ \n",
    "#½ \n",
    "#¾ \n",
    "#1\n",
    "\n",
    "1"
   ]
  },
  {
   "cell_type": "code",
   "execution_count": null,
   "metadata": {},
   "outputs": [],
   "source": [
    "“x bar” refers to the mean for a sample; “mu” refers to the mean for a population\n",
    "Ans = B"
   ]
  },
  {
   "cell_type": "code",
   "execution_count": null,
   "metadata": {},
   "outputs": [],
   "source": [
    "#In January 2005, a company that monitors Internet traffic (WebSideStory) reported that its sampling revealed that \n",
    "#the Mozilla Firefox browser launched in 2004 had grabbed a 4.6% share of the market.\n",
    "#If the sample were based on 2,000 users, could Microsoft conclude that Mozilla has a less than 5% share of \n",
    "#the market?\n",
    "\n",
    "#WebSideStory claims that its sample includes all the daily Internet users. If that’s the case, then can Microsoft \n",
    "#conclude that Mozilla has a less than 5% share of the market?"
   ]
  },
  {
   "cell_type": "code",
   "execution_count": null,
   "metadata": {},
   "outputs": [],
   "source": [
    "Sample = 2000"
   ]
  },
  {
   "cell_type": "code",
   "execution_count": null,
   "metadata": {},
   "outputs": [],
   "source": [
    "H0 - Null Hypothesis - Microsoft has equal or more than 5%\n",
    "H1 = Alternate Hypothesis - Microsoft has less than 5% share of the market"
   ]
  },
  {
   "cell_type": "code",
   "execution_count": null,
   "metadata": {},
   "outputs": [],
   "source": [
    "Std deviation is not given in this problem, So use T test"
   ]
  },
  {
   "cell_type": "code",
   "execution_count": 2,
   "metadata": {},
   "outputs": [],
   "source": [
    "import pandas as pd\n",
    "import numpy as np\n",
    "from scipy import stats"
   ]
  },
  {
   "cell_type": "code",
   "execution_count": 3,
   "metadata": {},
   "outputs": [
    {
     "data": {
      "text/plain": [
       "1.9611514201705613"
      ]
     },
     "execution_count": 3,
     "metadata": {},
     "output_type": "execute_result"
    }
   ],
   "source": [
    "stats.t.ppf(0.975 , df = 1999)"
   ]
  },
  {
   "cell_type": "code",
   "execution_count": 5,
   "metadata": {},
   "outputs": [
    {
     "data": {
      "text/plain": [
       "0.046"
      ]
     },
     "execution_count": 5,
     "metadata": {},
     "output_type": "execute_result"
    }
   ],
   "source": [
    "4.6/100"
   ]
  },
  {
   "cell_type": "code",
   "execution_count": 6,
   "metadata": {},
   "outputs": [
    {
     "data": {
      "text/plain": [
       "0.05"
      ]
     },
     "execution_count": 6,
     "metadata": {},
     "output_type": "execute_result"
    }
   ],
   "source": [
    "5/100"
   ]
  },
  {
   "cell_type": "code",
   "execution_count": 7,
   "metadata": {},
   "outputs": [
    {
     "data": {
      "text/plain": [
       "-0.0040000000000000036"
      ]
     },
     "execution_count": 7,
     "metadata": {},
     "output_type": "execute_result"
    }
   ],
   "source": [
    "0.046-0.05"
   ]
  },
  {
   "cell_type": "code",
   "execution_count": 8,
   "metadata": {},
   "outputs": [
    {
     "data": {
      "text/plain": [
       "0.95"
      ]
     },
     "execution_count": 8,
     "metadata": {},
     "output_type": "execute_result"
    }
   ],
   "source": [
    "1-0.05"
   ]
  },
  {
   "cell_type": "code",
   "execution_count": 9,
   "metadata": {},
   "outputs": [
    {
     "data": {
      "text/plain": [
       "0.0475"
      ]
     },
     "execution_count": 9,
     "metadata": {},
     "output_type": "execute_result"
    }
   ],
   "source": [
    "0.05*0.95"
   ]
  },
  {
   "cell_type": "code",
   "execution_count": 10,
   "metadata": {},
   "outputs": [
    {
     "data": {
      "text/plain": [
       "2.375e-05"
      ]
     },
     "execution_count": 10,
     "metadata": {},
     "output_type": "execute_result"
    }
   ],
   "source": [
    "0.0475/2000"
   ]
  },
  {
   "cell_type": "code",
   "execution_count": 11,
   "metadata": {},
   "outputs": [
    {
     "data": {
      "text/plain": [
       "-0.0016806722689075631"
      ]
     },
     "execution_count": 11,
     "metadata": {},
     "output_type": "execute_result"
    }
   ],
   "source": [
    "-0.004/2.38"
   ]
  },
  {
   "cell_type": "code",
   "execution_count": null,
   "metadata": {},
   "outputs": [],
   "source": [
    "Therefore, we conclude that Mozilla has more than or equal to 5% share of the market."
   ]
  },
  {
   "cell_type": "code",
   "execution_count": null,
   "metadata": {},
   "outputs": [],
   "source": [
    "#A book publisher monitors the size of shipments of its textbooks to university bookstores. \n",
    "#For a sample of texts used at various schools, the 95% confidence interval for the size of the shipment \n",
    "#was 250 ± 45 books. Which, if any, of the following interpretations of this interval are correct?\n",
    "\n",
    "All shipments are between 205 and 295 books.\n",
    "\n",
    "95% of shipments are between 205 and 295 books.\n",
    "\n",
    "The procedure that produced this interval generates ranges that hold the population mean for 95% of samples.\n",
    "\n",
    "If we get another sample, then we can be 95% sure that the mean of this second sample is between 205 and 295.\n",
    "\n",
    "We can be 95% confident that the range 160 to 340 holds the population mean.\n",
    "\n"
   ]
  },
  {
   "cell_type": "code",
   "execution_count": null,
   "metadata": {},
   "outputs": [],
   "source": [
    "option A is not correct"
   ]
  },
  {
   "cell_type": "code",
   "execution_count": null,
   "metadata": {},
   "outputs": [],
   "source": [
    "# Which is shorter: a 95% z-interval or a 95% t-interval for μ if we know that σ =s?\n",
    "\n",
    "The z-interval is shorter\n",
    "The t-interval is shorter\n",
    "Both are equal\n",
    "We cannot say\n",
    "\n",
    "\n",
    "Questions 8 and 9 are based on the following: To prepare a report on the economy, analysts need to estimate \n",
    "the percentage of businesses that plan to hire additional employees in the next 60 days.\n"
   ]
  },
  {
   "cell_type": "code",
   "execution_count": 14,
   "metadata": {},
   "outputs": [
    {
     "data": {
      "text/plain": [
       "1.959963984540054"
      ]
     },
     "execution_count": 14,
     "metadata": {},
     "output_type": "execute_result"
    }
   ],
   "source": [
    "stats.norm.ppf(0.975)"
   ]
  },
  {
   "cell_type": "code",
   "execution_count": 16,
   "metadata": {},
   "outputs": [
    {
     "data": {
      "text/plain": [
       "2.2621571627409915"
      ]
     },
     "execution_count": 16,
     "metadata": {},
     "output_type": "execute_result"
    }
   ],
   "source": [
    "stats.t.ppf(0.975 , df=9)"
   ]
  },
  {
   "cell_type": "code",
   "execution_count": null,
   "metadata": {},
   "outputs": [],
   "source": [
    "#Z interval is shorter"
   ]
  },
  {
   "cell_type": "code",
   "execution_count": null,
   "metadata": {},
   "outputs": [],
   "source": [
    "#Q.8) How many randomly selected employers (minimum number) must we contact in order to guarantee a margin of error of \n",
    "#no more than 4% (at 95% confidence)?\n",
    "\n",
    "600\n",
    "400\n",
    "550\n",
    "1000\n"
   ]
  },
  {
   "cell_type": "code",
   "execution_count": null,
   "metadata": {},
   "outputs": [],
   "source": [
    "stats.t.ppf(0.975 , df=9)"
   ]
  },
  {
   "cell_type": "code",
   "execution_count": 20,
   "metadata": {},
   "outputs": [
    {
     "data": {
      "text/plain": [
       "24.0"
      ]
     },
     "execution_count": 20,
     "metadata": {},
     "output_type": "execute_result"
    }
   ],
   "source": [
    "600*0.04"
   ]
  },
  {
   "cell_type": "code",
   "execution_count": 21,
   "metadata": {},
   "outputs": [
    {
     "data": {
      "text/plain": [
       "2.0686576104190406"
      ]
     },
     "execution_count": 21,
     "metadata": {},
     "output_type": "execute_result"
    }
   ],
   "source": [
    "stats.t.ppf(0.975 , 23)"
   ]
  },
  {
   "cell_type": "code",
   "execution_count": null,
   "metadata": {},
   "outputs": [],
   "source": [
    "ANS = A"
   ]
  },
  {
   "cell_type": "code",
   "execution_count": null,
   "metadata": {},
   "outputs": [],
   "source": []
  },
  {
   "cell_type": "code",
   "execution_count": null,
   "metadata": {},
   "outputs": [],
   "source": []
  },
  {
   "cell_type": "code",
   "execution_count": null,
   "metadata": {},
   "outputs": [],
   "source": []
  }
 ],
 "metadata": {
  "kernelspec": {
   "display_name": "Python 3",
   "language": "python",
   "name": "python3"
  },
  "language_info": {
   "codemirror_mode": {
    "name": "ipython",
    "version": 3
   },
   "file_extension": ".py",
   "mimetype": "text/x-python",
   "name": "python",
   "nbconvert_exporter": "python",
   "pygments_lexer": "ipython3",
   "version": "3.8.5"
  }
 },
 "nbformat": 4,
 "nbformat_minor": 4
}
